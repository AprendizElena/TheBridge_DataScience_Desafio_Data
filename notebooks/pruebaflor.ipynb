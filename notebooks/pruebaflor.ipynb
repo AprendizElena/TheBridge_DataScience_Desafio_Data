{
 "cells": [
  {
   "cell_type": "markdown",
   "metadata": {},
   "source": [
    "#Esto es una prueba practica de github"
   ]
  }
 ],
 "metadata": {
  "language_info": {
   "name": "python"
  }
 },
 "nbformat": 4,
 "nbformat_minor": 2
}
